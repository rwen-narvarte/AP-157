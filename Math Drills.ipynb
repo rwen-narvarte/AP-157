{
 "cells": [
  {
   "cell_type": "code",
   "execution_count": 80,
   "metadata": {},
   "outputs": [],
   "source": [
    "import numpy as np\n",
    "from numpy import random\n",
    "import time"
   ]
  },
  {
   "cell_type": "code",
   "execution_count": 81,
   "metadata": {},
   "outputs": [],
   "source": [
    "symbols = [' + ' , ' - ' , ' x ' , ' / ']"
   ]
  },
  {
   "cell_type": "code",
   "execution_count": 82,
   "metadata": {},
   "outputs": [],
   "source": [
    "def add(i,j):\n",
    "    return i + j\n",
    "    \n",
    "def subt(i,j):\n",
    "    return i - j\n",
    "    \n",
    "def mult(i,j):\n",
    "    return i*j\n",
    "    \n",
    "def div(i,j):\n",
    "    return i/j\n",
    "    \n",
    "op_dict = {\n",
    "    ' + ' : add,\n",
    "    ' - ' : subt,\n",
    "    ' x ' : mult,\n",
    "    ' / ' : div\n",
    "}"
   ]
  },
  {
   "cell_type": "code",
   "execution_count": 83,
   "metadata": {},
   "outputs": [],
   "source": [
    "def checker(operation,x,y):\n",
    "    return op_dict[operation](x,y)"
   ]
  },
  {
   "cell_type": "code",
   "execution_count": null,
   "metadata": {},
   "outputs": [],
   "source": [
    "\n"
   ]
  },
  {
   "cell_type": "code",
   "execution_count": 84,
   "metadata": {},
   "outputs": [
    {
     "name": "stdout",
     "output_type": "stream",
     "text": [
      "5 - 4\n",
      "Correct\n",
      "6 - 9\n",
      "Correct\n",
      "5 - 10\n",
      "Correct\n",
      "3 + 6\n",
      "Timeout! Game Over!\n"
     ]
    }
   ],
   "source": [
    "timeout = 7\n",
    "gamestate = True\n",
    "    \n",
    "while gamestate == True:\n",
    "    a = random.randint(0,11)\n",
    "    b = random.randint(0,11)\n",
    "    operation = random.choice(symbols)\n",
    "    \n",
    "    time.sleep(0.6)\n",
    "    Q = str(f'{a}{operation}{b}')\n",
    "    print(Q)\n",
    "    \n",
    "    \n",
    "    check = checker(operation,a,b)\n",
    "    t_i = time.time()\n",
    "    t_f = t_i + 5\n",
    "    answer = None\n",
    "    attempt = True\n",
    "    flag1 = True\n",
    "\n",
    "\n",
    "    while flag1 == True:  \n",
    "        while time.time() <= t_f:\n",
    "            \n",
    "\n",
    "            if answer is None:\n",
    "                answer = answer or input(\"\")\n",
    "                \n",
    "            else:\n",
    "                if answer is not None:\n",
    "                    if int(answer) == check:\n",
    "                        print('Correct')\n",
    "                        flag1 = False\n",
    "                        break\n",
    "                    else:\n",
    "                        print('Wrong :(, Game over')\n",
    "                        gamestate = False\n",
    "        \n",
    "\n",
    "\n",
    "\n",
    "        if (time.time() > t_f):\n",
    "            print(\"Timeout! Game Over!\")\n",
    "            gamestate = False\n",
    "            flag1 == False\n",
    "            break"
   ]
  }
 ],
 "metadata": {
  "kernelspec": {
   "display_name": "Python 3",
   "language": "python",
   "name": "python3"
  },
  "language_info": {
   "codemirror_mode": {
    "name": "ipython",
    "version": 3
   },
   "file_extension": ".py",
   "mimetype": "text/x-python",
   "name": "python",
   "nbconvert_exporter": "python",
   "pygments_lexer": "ipython3",
   "version": "3.12.0"
  }
 },
 "nbformat": 4,
 "nbformat_minor": 2
}
