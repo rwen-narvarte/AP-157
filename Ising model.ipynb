{
 "cells": [
  {
   "cell_type": "code",
   "execution_count": 1,
   "metadata": {},
   "outputs": [],
   "source": [
    "import numpy as np\n"
   ]
  },
  {
   "cell_type": "code",
   "execution_count": 2,
   "metadata": {},
   "outputs": [
    {
     "name": "stdout",
     "output_type": "stream",
     "text": [
      "[[ 1 -1  1 ...  1 -1  1]\n",
      " [ 1 -1  1 ...  1 -1 -1]\n",
      " [ 1  1 -1 ...  1  1 -1]\n",
      " ...\n",
      " [-1 -1  1 ...  1 -1  1]\n",
      " [ 1 -1 -1 ...  1 -1 -1]\n",
      " [ 1  1  1 ...  1 -1 -1]]\n"
     ]
    }
   ],
   "source": [
    "#2.1 Creating the initial board\n",
    "N = 50\n",
    "Lattice = np.random.randint(0,2,[N,N])          # Using randint approach\n",
    "Lattice[Lattice == 0] = -1                          # Converting '0' into '-1'\n",
    "\n",
    "print(Lattice)"
   ]
  },
  {
   "cell_type": "code",
   "execution_count": 3,
   "metadata": {},
   "outputs": [],
   "source": [
    "def local_E(board,i,j,J,size):\n",
    "    fset = [(-1,0),(1,0),(0,-1),(0,1)]\n",
    "    list1 = []\n",
    "    \n",
    "    for (dx,dy) in fset:\n",
    "        # Y = I\n",
    "        k = i + dy\n",
    "        # X = J\n",
    "        l = j + dx\n",
    "        #print(k,l)\n",
    "        if (k,l) != (i,j) and 0 <= k <= size-1 and  0 <= l <= size-1:\n",
    "            list1.append( board[k][l] * board[i][j] )\n",
    "\n",
    "    return sum(list1)"
   ]
  },
  {
   "cell_type": "code",
   "execution_count": 4,
   "metadata": {},
   "outputs": [],
   "source": [
    "from numpy import exp\n",
    "T = 1\n",
    "beta = 1/T\n",
    "J = 1\n",
    "E = 0\n",
    "\n",
    "\n",
    "\n",
    "def Ising(Lattice, T, beta, J, E, steps, seed):\n",
    "#random flip\n",
    "    np.random.seed(seed)\n",
    "    for i in range(steps):\n",
    "\n",
    "\n",
    "        \n",
    "        LEi_list = []\n",
    "        for x in range(len(Lattice)):\n",
    "            for y in range(len(Lattice)):\n",
    "                LEi_list.append( local_E(Lattice,y,x,J,N) )\n",
    "        Ei = sum(LEi_list)/2\n",
    "\n",
    "\n",
    "        X = np.random.randint(0,50)\n",
    "        Y = np.random.randint(0,50)\n",
    "        Lattice[Y,X] = Lattice[Y][X] * -1\n",
    "\n",
    "\n",
    "        #Delta E\n",
    "        LEf_list = []\n",
    "        for x in range(len(Lattice)):\n",
    "            for y in range(len(Lattice)):\n",
    "                LEf_list.append( local_E(Lattice,y,x,J,N) )\n",
    "        Ef = sum(LEf_list)/2\n",
    "\n",
    "\n",
    "        #Metropolis\n",
    "        delta_E = -J*(Ef - Ei)\n",
    "        if delta_E <= 0: \n",
    "            E += delta_E\n",
    "        elif delta_E > 0:\n",
    "            r = np.random.randint(0,1)\n",
    "            if r <= np.exp(-beta*delta_E ): \n",
    "                E += delta_E\n",
    "            else:\n",
    "                Lattice[Y,X] = Lattice[Y,X] * -1\n",
    "\n",
    "    Magnetization = Lattice.sum()\n",
    "\n",
    "    return Lattice, Magnetization\n"
   ]
  },
  {
   "cell_type": "code",
   "execution_count": 5,
   "metadata": {},
   "outputs": [
    {
     "data": {
      "text/plain": [
       "<matplotlib.image.AxesImage at 0x1d5d1525c70>"
      ]
     },
     "execution_count": 5,
     "metadata": {},
     "output_type": "execute_result"
    },
    {
     "data": {
      "image/png": "[encoded data removed]",
      "text/plain": [
       "<Figure size 640x480 with 1 Axes>"
      ]
     },
     "metadata": {},
     "output_type": "display_data"
    }
   ],
   "source": [
    "from matplotlib import pyplot as plt\n",
    "fig, axs = plt.subplots()\n",
    "fig.suptitle('Ising 200')\n",
    "axs.imshow(Ising(Lattice, T, beta, J, E, 10000, 20)[0], interpolation='nearest')\n"
   ]
  },
  {
   "cell_type": "code",
   "execution_count": null,
   "metadata": {},
   "outputs": [],
   "source": [
    "\n"
   ]
  },
  {
   "attachments": {},
   "cell_type": "markdown",
   "metadata": {},
   "source": []
  }
 ],
 "metadata": {
  "kernelspec": {
   "display_name": "base",
   "language": "python",
   "name": "python3"
  },
  "language_info": {
   "codemirror_mode": {
    "name": "ipython",
    "version": 3
   },
   "file_extension": ".py",
   "mimetype": "text/x-python",
   "name": "python",
   "nbconvert_exporter": "python",
   "pygments_lexer": "ipython3",
   "version": "3.12.0"
  },
  "orig_nbformat": 4
 },
 "nbformat": 4,
 "nbformat_minor": 2
}
