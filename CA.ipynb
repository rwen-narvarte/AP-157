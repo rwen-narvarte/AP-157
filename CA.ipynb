{
 "cells": [
  {
   "cell_type": "code",
   "execution_count": 34,
   "metadata": {},
   "outputs": [],
   "source": [
    "import numpy as np\n",
    "from matplotlib import pyplot as plt"
   ]
  },
  {
   "cell_type": "code",
   "execution_count": 35,
   "metadata": {},
   "outputs": [],
   "source": [
    "#Function that converts any number into a binary sting\n",
    "def decimalToBinary(n): \n",
    "    string = \"{0:b}\".format(int(n))\n",
    "\n",
    "    if len(string) < 8:                                 #The function will sometimes give outputs like\n",
    "        for i in range(8 - len(string)):                #100101 or 0110. We want an 8 digit number                        \n",
    "            string = '0' + string                       #The following just appeneds a bunch of '0's\n",
    "                                                        #infront of the string until it's 8 digits\n",
    "    return string"
   ]
  },
  {
   "cell_type": "code",
   "execution_count": null,
   "metadata": {},
   "outputs": [],
   "source": [
    "#Creating a function for the cellular automata\n",
    "#I want to input a triplet (110,010,001,etc) and the rule number\n",
    "def ca(list, rule_i):\n",
    "\n",
    "    rule_binary = decimalToBinary(rule_i)               #Convert rule number into binary string\n",
    "\n",
    "    rule_dict = {                                       \n",
    "        '111':rule_binary[0],                           #I create a dictionary so that if I call\n",
    "        '110':rule_binary[1],                           #for example \"111\", it will give me the \n",
    "        '101':rule_binary[2],                           #0th character in my binary string \n",
    "        '100':rule_binary[3],\n",
    "        '011':rule_binary[4],\n",
    "        '010':rule_binary[5],\n",
    "        '001':rule_binary[6],\n",
    "        '000':rule_binary[7],\n",
    "    }\n",
    "\n",
    "    #converting the list into a string so I can use it to call in the dictionary\n",
    "    string = ''\n",
    "    for i in range(len(list)):\n",
    "        string += str(list[i]) + ''\n",
    "\n",
    "\n",
    "    return int((rule_dict[string]))\n"
   ]
  },
  {
   "cell_type": "code",
   "execution_count": null,
   "metadata": {},
   "outputs": [],
   "source": [
    "#Makiing a function that does the next step of the CA\n",
    "def apply_rules(list_0, rule_1):\n",
    "    list_n = []\n",
    "    length = len(list_0)\n",
    "    for i in range(len(list_0)):\n",
    "        twanslator = [list_0[i-1],list_0[i],list_0[(i+1)%length]]   #Make slicing of 3\n",
    "        list_n.append(ca(twanslator,rule_1))                        #Apply CA for each triplet \n",
    "    return list_n                                                   #save outputs as a list as next gen\n"
   ]
  },
  {
   "cell_type": "code",
   "execution_count": 36,
   "metadata": {},
   "outputs": [],
   "source": [
    "#Just optimizing the steps for easier visualization and easier input\n",
    "#Make a function that requires: rule number, size/length, # of steps, and where the dot is\n",
    "def ca_generator(rule, cells, steps, seed):\n",
    "    Lattice = np.zeros((steps, cells))\n",
    "    Lattice = Lattice.astype(int)\n",
    "    \n",
    "    if seed == 'left': Lattice[0][0] = 1\n",
    "    if seed == 'right': Lattice[0][-1] = 1\n",
    "\n",
    "\n",
    "    for i in range(1,steps):\n",
    "        prev = Lattice[i-1]\n",
    "        arr_list = prev.tolist()\n",
    "        Lattice[i] = apply_rules(prev,rule)\n",
    "\n",
    "    return Lattice"
   ]
  },
  {
   "cell_type": "code",
   "execution_count": 37,
   "metadata": {},
   "outputs": [
    {
     "data": {
      "text/plain": [
       "Text(0.5, 1.0, 'Rule 30')"
      ]
     },
     "execution_count": 37,
     "metadata": {},
     "output_type": "execute_result"
    },
    {
     "data": {
      "image/png": "[encoded data removed]",
      "text/plain": [
       "<Figure size 640x480 with 3 Axes>"
      ]
     },
     "metadata": {},
     "output_type": "display_data"
    }
   ],
   "source": [
    "steps = 50\n",
    "rule_list = [110,90,30]\n",
    "size = 20\n",
    "\n",
    "fig, (ax1,ax2,ax3) = plt.subplots(1,3)\n",
    "fig.suptitle(f'Cellular Automata, steps = {steps}, Rwen Narvarte')\n",
    "ax1.imshow(ca_generator(rule_list[0],size,steps,'right'))\n",
    "ax1.set_title(f'Rule {rule_list[0]}')\n",
    "ax2.imshow(ca_generator(rule_list[1],size,steps,'right'))\n",
    "ax2.set_title(f'Rule {rule_list[1]}')\n",
    "ax3.imshow(ca_generator(rule_list[2],size,steps,'right'))\n",
    "ax3.set_title(f'Rule {rule_list[2]}')"
   ]
  }
 ],
 "metadata": {
  "kernelspec": {
   "display_name": "Python 3",
   "language": "python",
   "name": "python3"
  },
  "language_info": {
   "codemirror_mode": {
    "name": "ipython",
    "version": 3
   },
   "file_extension": ".py",
   "mimetype": "text/x-python",
   "name": "python",
   "nbconvert_exporter": "python",
   "pygments_lexer": "ipython3",
   "version": "3.12.0"
  }
 },
 "nbformat": 4,
 "nbformat_minor": 2
}
